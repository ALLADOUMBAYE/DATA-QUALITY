{
  "nbformat": 4,
  "nbformat_minor": 0,
  "metadata": {
    "colab": {
      "name": "Autoencoder.ipynb",
      "provenance": [],
      "collapsed_sections": [],
      "authorship_tag": "ABX9TyOx8eeNZrwQK/S76rkW1D5k",
      "include_colab_link": true
    },
    "kernelspec": {
      "name": "python3",
      "display_name": "Python 3"
    }
  },
  "cells": [
    {
      "cell_type": "markdown",
      "metadata": {
        "id": "view-in-github",
        "colab_type": "text"
      },
      "source": [
        "<a href=\"https://colab.research.google.com/github/ALLADOUMBAYE/DATA-QUALITY/blob/master/Deep%20Learning%20with%20MNIST%20DATASET.ipynb\" target=\"_parent\"><img src=\"https://colab.research.google.com/assets/colab-badge.svg\" alt=\"Open In Colab\"/></a>"
      ]
    },
    {
      "cell_type": "code",
      "metadata": {
        "id": "z8DYfRMBV3OQ"
      },
      "source": [
        "import tensorflow as tf\r\n",
        "import numpy as np\r\n",
        "\r\n",
        "import tensorflow_datasets as tfds"
      ],
      "execution_count": 4,
      "outputs": []
    },
    {
      "cell_type": "code",
      "metadata": {
        "id": "_7KZTcuwcdL-"
      },
      "source": [
        "mnist_dataset, mnist_info = tfds.load(name='mnist', with_info = True, as_supervised =True)\r\n",
        "\r\n",
        "mnist_train, mnist_test = mnist_dataset['train'], mnist_dataset['test']\r\n",
        "\r\n",
        "num_validation_samples = 0.1 * mnist_info.splits['train'].num_examples\r\n",
        "num_validation_samples = tf.cast(num_validation_samples, tf.int64) \r\n",
        "\r\n",
        "num_test_samples = mnist_info.splits['test'].num_examples\r\n",
        "num_test_samples = tf.cast(num_test_samples, tf.int64)\r\n",
        "\r\n",
        "def scale(image, label):\r\n",
        "  image = tf.cast(image, tf.float32)\r\n",
        "  image /=255.\r\n",
        "  return image, label\r\n",
        "\r\n",
        "scaled_train_and_validation_data = mnist_train.map(scale)\r\n",
        "\r\n",
        "test_data = mnist_test.map(scale)\r\n",
        "\r\n",
        "BUFFER_SIZE = 10000\r\n",
        "\r\n",
        "shuffled_train_and_validation_data = scaled_train_and_validation_data.shuffle(BUFFER_SIZE)\r\n",
        "\r\n",
        "validation_data = shuffled_train_and_validation_data.take(num_validation_samples)\r\n",
        "train_data = shuffled_train_and_validation_data.skip(num_validation_samples)\r\n",
        "\r\n",
        "BUFFER_SIZE = 100\r\n",
        "\r\n",
        "train_data = train_data.batch(BUFFER_SIZE)\r\n",
        "validation_data = validation_data.batch(num_validation_samples)\r\n",
        "test_data = test_data.batch(num_test_samples)\r\n",
        "\r\n",
        "validation_inputs, validation_targets = next(iter(validation_data)) "
      ],
      "execution_count": 14,
      "outputs": []
    },
    {
      "cell_type": "markdown",
      "metadata": {
        "id": "TIrpRgXXu4nr"
      },
      "source": [
        "Model"
      ]
    },
    {
      "cell_type": "markdown",
      "metadata": {
        "id": "ADs9Ju_DvSt1"
      },
      "source": [
        "outline the Model"
      ]
    },
    {
      "cell_type": "code",
      "metadata": {
        "id": "EGrTCfF2u6ok"
      },
      "source": [
        "input_size = 784\r\n",
        "output_size = 10\r\n",
        "hidden_layer_size = 100\r\n",
        "\r\n",
        "model = tf.keras.Sequential([\r\n",
        "                             tf.keras.layers.Flatten(input_shape=(28,28,1)),\r\n",
        "                             tf.keras.layers.Dense(hidden_layer_size, activation='relu'),\r\n",
        "                             tf.keras.layers.Dense(hidden_layer_size, activation='relu'),\r\n",
        "                             tf.keras.layers.Dense(output_size, activation='softmax')\r\n",
        "                             ])"
      ],
      "execution_count": 19,
      "outputs": []
    },
    {
      "cell_type": "markdown",
      "metadata": {
        "id": "AoDPuxB5yvlx"
      },
      "source": [
        "Choose the optimizer and the loss function "
      ]
    },
    {
      "cell_type": "code",
      "metadata": {
        "id": "9z1HSH-By60c"
      },
      "source": [
        "model.compile(optimizer='adam', loss='sparse_categorical_crossentropy', metrics=['accuracy'])"
      ],
      "execution_count": 20,
      "outputs": []
    },
    {
      "cell_type": "markdown",
      "metadata": {
        "id": "O7ApyoyO0n-w"
      },
      "source": [
        "Training"
      ]
    },
    {
      "cell_type": "code",
      "metadata": {
        "colab": {
          "base_uri": "https://localhost:8080/"
        },
        "id": "VrOaWFYMz5F7",
        "outputId": "6de2b220-0732-4857-a176-9498af36fdb5"
      },
      "source": [
        "NUM_EPOCHS = 10\r\n",
        "\r\n",
        "model.fit(train_data, epochs=NUM_EPOCHS, validation_data=(validation_inputs, validation_targets), verbose=2)"
      ],
      "execution_count": 22,
      "outputs": [
        {
          "output_type": "stream",
          "text": [
            "Epoch 1/10\n",
            "540/540 - 3s - loss: 0.0835 - accuracy: 0.9748 - val_loss: 0.0830 - val_accuracy: 0.9770\n",
            "Epoch 2/10\n",
            "540/540 - 3s - loss: 0.0737 - accuracy: 0.9777 - val_loss: 0.0795 - val_accuracy: 0.9775\n",
            "Epoch 3/10\n",
            "540/540 - 3s - loss: 0.0654 - accuracy: 0.9804 - val_loss: 0.0817 - val_accuracy: 0.9757\n",
            "Epoch 4/10\n",
            "540/540 - 3s - loss: 0.0583 - accuracy: 0.9822 - val_loss: 0.0613 - val_accuracy: 0.9817\n",
            "Epoch 5/10\n",
            "540/540 - 3s - loss: 0.0517 - accuracy: 0.9842 - val_loss: 0.0581 - val_accuracy: 0.9837\n",
            "Epoch 6/10\n",
            "540/540 - 3s - loss: 0.0471 - accuracy: 0.9852 - val_loss: 0.0573 - val_accuracy: 0.9832\n",
            "Epoch 7/10\n",
            "540/540 - 3s - loss: 0.0405 - accuracy: 0.9875 - val_loss: 0.0668 - val_accuracy: 0.9798\n",
            "Epoch 8/10\n",
            "540/540 - 3s - loss: 0.0386 - accuracy: 0.9881 - val_loss: 0.0547 - val_accuracy: 0.9842\n",
            "Epoch 9/10\n",
            "540/540 - 3s - loss: 0.0340 - accuracy: 0.9891 - val_loss: 0.0459 - val_accuracy: 0.9888\n",
            "Epoch 10/10\n",
            "540/540 - 3s - loss: 0.0321 - accuracy: 0.9903 - val_loss: 0.0435 - val_accuracy: 0.9880\n"
          ],
          "name": "stdout"
        },
        {
          "output_type": "execute_result",
          "data": {
            "text/plain": [
              "<tensorflow.python.keras.callbacks.History at 0x7f9fa663a0b8>"
            ]
          },
          "metadata": {
            "tags": []
          },
          "execution_count": 22
        }
      ]
    },
    {
      "cell_type": "markdown",
      "metadata": {
        "id": "LQbNGmNy3xPd"
      },
      "source": [
        "Testing the Model"
      ]
    },
    {
      "cell_type": "code",
      "metadata": {
        "id": "1uS7msfD19_7"
      },
      "source": [
        "test_loss, test_accuracy = model.evaluate(test_data)"
      ],
      "execution_count": null,
      "outputs": []
    },
    {
      "cell_type": "code",
      "metadata": {
        "id": "q03axu8f4wEK"
      },
      "source": [
        "print('Test loss: {0:.2f}. Test accuracy: {1:.2f}%'.format(test_loss, test-accuracy*100.))"
      ],
      "execution_count": null,
      "outputs": []
    },
    {
      "cell_type": "code",
      "metadata": {
        "id": "26KVkYU55WCl"
      },
      "source": [
        ""
      ],
      "execution_count": null,
      "outputs": []
    }
  ]
}