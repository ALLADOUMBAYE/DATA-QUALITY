{
  "nbformat": 4,
  "nbformat_minor": 0,
  "metadata": {
    "colab": {
      "name": "Deep Learning with MNIST DATASET.ipynb",
      "provenance": [],
      "collapsed_sections": [],
      "authorship_tag": "ABX9TyPSCWQTjeJirV7vcnLB/LXN",
      "include_colab_link": true
    },
    "kernelspec": {
      "name": "python3",
      "display_name": "Python 3"
    }
  },
  "cells": [
    {
      "cell_type": "markdown",
      "metadata": {
        "id": "view-in-github",
        "colab_type": "text"
      },
      "source": [
        "<a href=\"https://colab.research.google.com/github/ALLADOUMBAYE/DATA-QUALITY/blob/master/Deep_Learning_with_MNIST_DATASET.ipynb\" target=\"_parent\"><img src=\"https://colab.research.google.com/assets/colab-badge.svg\" alt=\"Open In Colab\"/></a>"
      ]
    },
    {
      "cell_type": "code",
      "metadata": {
        "id": "z8DYfRMBV3OQ"
      },
      "source": [
        "import tensorflow as tf\r\n",
        "import numpy as np\r\n",
        "import matplotlib.pyplot as plt\r\n",
        "\r\n",
        "\r\n",
        "import tensorflow_datasets as tfds"
      ],
      "execution_count": 10,
      "outputs": []
    },
    {
      "cell_type": "code",
      "metadata": {
        "id": "_7KZTcuwcdL-"
      },
      "source": [
        "mnist_dataset, mnist_info = tfds.load(name='mnist', with_info = True, as_supervised =True)\r\n",
        "\r\n",
        "mnist_train, mnist_test = mnist_dataset['train'], mnist_dataset['test']\r\n",
        "\r\n",
        "num_validation_samples = 0.1 * mnist_info.splits['train'].num_examples\r\n",
        "num_validation_samples = tf.cast(num_validation_samples, tf.int64) \r\n",
        "\r\n",
        "num_test_samples = mnist_info.splits['test'].num_examples\r\n",
        "num_test_samples = tf.cast(num_test_samples, tf.int64)\r\n",
        "\r\n",
        "def scale(image, label):\r\n",
        "  image = tf.cast(image, tf.float32)\r\n",
        "  image /=255.\r\n",
        "  return image, label\r\n",
        "\r\n",
        "scaled_train_and_validation_data = mnist_train.map(scale)\r\n",
        "\r\n",
        "test_data = mnist_test.map(scale)\r\n",
        "\r\n",
        "BUFFER_SIZE = 10000\r\n",
        "\r\n",
        "shuffled_train_and_validation_data = scaled_train_and_validation_data.shuffle(BUFFER_SIZE)\r\n",
        "\r\n",
        "validation_data = shuffled_train_and_validation_data.take(num_validation_samples)\r\n",
        "train_data = shuffled_train_and_validation_data.skip(num_validation_samples)\r\n",
        "\r\n",
        "BUFFER_SIZE = 100\r\n",
        "\r\n",
        "train_data = train_data.batch(BUFFER_SIZE)\r\n",
        "validation_data = validation_data.batch(num_validation_samples)\r\n",
        "test_data = test_data.batch(num_test_samples)\r\n",
        "\r\n",
        "validation_inputs, validation_targets = next(iter(validation_data)) "
      ],
      "execution_count": 11,
      "outputs": []
    },
    {
      "cell_type": "markdown",
      "metadata": {
        "id": "TIrpRgXXu4nr"
      },
      "source": [
        "Model"
      ]
    },
    {
      "cell_type": "markdown",
      "metadata": {
        "id": "ADs9Ju_DvSt1"
      },
      "source": [
        "outline the Model"
      ]
    },
    {
      "cell_type": "code",
      "metadata": {
        "id": "EGrTCfF2u6ok"
      },
      "source": [
        "input_size = 784\r\n",
        "output_size = 10\r\n",
        "hidden_layer_size = 100\r\n",
        "\r\n",
        "model = tf.keras.Sequential([\r\n",
        "                             tf.keras.layers.Flatten(input_shape=(28,28,1)),\r\n",
        "                             tf.keras.layers.Dense(hidden_layer_size, activation='relu'),\r\n",
        "                             tf.keras.layers.Dense(hidden_layer_size, activation='relu'),\r\n",
        "                             tf.keras.layers.Dense(output_size, activation='softmax')\r\n",
        "                             ])"
      ],
      "execution_count": 12,
      "outputs": []
    },
    {
      "cell_type": "markdown",
      "metadata": {
        "id": "AoDPuxB5yvlx"
      },
      "source": [
        "Choose the optimizer and the loss function "
      ]
    },
    {
      "cell_type": "code",
      "metadata": {
        "id": "9z1HSH-By60c"
      },
      "source": [
        "model.compile(optimizer='adam', loss='sparse_categorical_crossentropy', metrics=['accuracy'])"
      ],
      "execution_count": 13,
      "outputs": []
    },
    {
      "cell_type": "markdown",
      "metadata": {
        "id": "O7ApyoyO0n-w"
      },
      "source": [
        "Training"
      ]
    },
    {
      "cell_type": "code",
      "metadata": {
        "colab": {
          "base_uri": "https://localhost:8080/"
        },
        "id": "VrOaWFYMz5F7",
        "outputId": "1c2cfd71-9238-48dd-e5a5-3c881632ebfe"
      },
      "source": [
        "NUM_EPOCHS = 10\r\n",
        "\r\n",
        "history = model.fit(train_data, epochs=NUM_EPOCHS, validation_data=(validation_inputs, validation_targets), verbose=2)"
      ],
      "execution_count": 14,
      "outputs": [
        {
          "output_type": "stream",
          "text": [
            "Epoch 1/10\n",
            "540/540 - 8s - loss: 0.3173 - accuracy: 0.9097 - val_loss: 0.1504 - val_accuracy: 0.9585\n",
            "Epoch 2/10\n",
            "540/540 - 4s - loss: 0.1285 - accuracy: 0.9621 - val_loss: 0.1007 - val_accuracy: 0.9705\n",
            "Epoch 3/10\n",
            "540/540 - 4s - loss: 0.0922 - accuracy: 0.9724 - val_loss: 0.0824 - val_accuracy: 0.9747\n",
            "Epoch 4/10\n",
            "540/540 - 4s - loss: 0.0702 - accuracy: 0.9784 - val_loss: 0.0744 - val_accuracy: 0.9790\n",
            "Epoch 5/10\n",
            "540/540 - 4s - loss: 0.0559 - accuracy: 0.9828 - val_loss: 0.0542 - val_accuracy: 0.9840\n",
            "Epoch 6/10\n",
            "540/540 - 4s - loss: 0.0484 - accuracy: 0.9854 - val_loss: 0.0499 - val_accuracy: 0.9850\n",
            "Epoch 7/10\n",
            "540/540 - 4s - loss: 0.0384 - accuracy: 0.9884 - val_loss: 0.0438 - val_accuracy: 0.9873\n",
            "Epoch 8/10\n",
            "540/540 - 4s - loss: 0.0329 - accuracy: 0.9898 - val_loss: 0.0402 - val_accuracy: 0.9883\n",
            "Epoch 9/10\n",
            "540/540 - 4s - loss: 0.0294 - accuracy: 0.9911 - val_loss: 0.0276 - val_accuracy: 0.9913\n",
            "Epoch 10/10\n",
            "540/540 - 4s - loss: 0.0217 - accuracy: 0.9930 - val_loss: 0.0307 - val_accuracy: 0.9907\n"
          ],
          "name": "stdout"
        }
      ]
    },
    {
      "cell_type": "markdown",
      "metadata": {
        "id": "LQbNGmNy3xPd"
      },
      "source": [
        "Testing the Model"
      ]
    },
    {
      "cell_type": "code",
      "metadata": {
        "id": "1uS7msfD19_7",
        "colab": {
          "base_uri": "https://localhost:8080/"
        },
        "outputId": "1306782b-e2ff-43b4-972b-9ad6ecab316d"
      },
      "source": [
        "test_loss, test_accuracy = model.evaluate(test_data)"
      ],
      "execution_count": 15,
      "outputs": [
        {
          "output_type": "stream",
          "text": [
            "1/1 [==============================] - 1s 1s/step - loss: 0.0800 - accuracy: 0.9783\n"
          ],
          "name": "stdout"
        }
      ]
    },
    {
      "cell_type": "code",
      "metadata": {
        "id": "q03axu8f4wEK",
        "colab": {
          "base_uri": "https://localhost:8080/"
        },
        "outputId": "c8df47d6-3b93-4075-c65a-503817db8245"
      },
      "source": [
        "print('Test loss: {0:.2f}. Test accuracy: {1:.2f}%'.format(test_loss, test_accuracy*100.))"
      ],
      "execution_count": 16,
      "outputs": [
        {
          "output_type": "stream",
          "text": [
            "Test loss: 0.08. Test accuracy: 97.83%\n"
          ],
          "name": "stdout"
        }
      ]
    },
    {
      "cell_type": "markdown",
      "metadata": {
        "id": "pge-m1wctfVe"
      },
      "source": [
        "Summarize History and Loss"
      ]
    },
    {
      "cell_type": "code",
      "metadata": {
        "id": "26KVkYU55WCl",
        "colab": {
          "base_uri": "https://localhost:8080/",
          "height": 295
        },
        "outputId": "562618b1-add4-4fa8-ce5a-aa05623490bd"
      },
      "source": [
        "# summarize history for loss\r\n",
        "plt.plot(history.history['loss'])\r\n",
        "plt.plot(history.history['val_loss'])\r\n",
        "plt.title('Model Loss')\r\n",
        "plt.ylabel('loss')\r\n",
        "plt.xlabel('epoch')\r\n",
        "plt.legend(['train','test'], loc='upper left')\r\n",
        "plt.show()"
      ],
      "execution_count": 17,
      "outputs": [
        {
          "output_type": "display_data",
          "data": {
            "image/png": "[encoded data removed]",
            "text/plain": [
              "<Figure size 432x288 with 1 Axes>"
            ]
          },
          "metadata": {
            "tags": [],
            "needs_background": "light"
          }
        }
      ]
    },
    {
      "cell_type": "code",
      "metadata": {
        "colab": {
          "base_uri": "https://localhost:8080/",
          "height": 295
        },
        "id": "VRAG3FeWugde",
        "outputId": "97a66bde-645e-4bfa-e2de-d05962570fad"
      },
      "source": [
        "# summarize history for accuracy\r\n",
        "plt.plot(history.history['accuracy'])\r\n",
        "plt.plot(history.history['val_accuracy'])\r\n",
        "plt.title('Model Accuracy')\r\n",
        "plt.ylabel('accuracy')\r\n",
        "plt.xlabel('epoch')\r\n",
        "plt.legend(['train','test'], loc='upper left')\r\n",
        "plt.show()"
      ],
      "execution_count": 20,
      "outputs": [
        {
          "output_type": "display_data",
          "data": {
            "image/png": "[encoded data removed]",
            "text/plain": [
              "<Figure size 432x288 with 1 Axes>"
            ]
          },
          "metadata": {
            "tags": [],
            "needs_background": "light"
          }
        }
      ]
    },
    {
      "cell_type": "code",
      "metadata": {
        "id": "IWp6MD_IvMS0"
      },
      "source": [
        ""
      ],
      "execution_count": null,
      "outputs": []
    }
  ]
}